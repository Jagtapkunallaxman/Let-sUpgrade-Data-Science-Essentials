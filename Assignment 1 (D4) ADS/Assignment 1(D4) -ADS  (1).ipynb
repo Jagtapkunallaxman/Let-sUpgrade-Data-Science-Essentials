{
 "cells": [
  {
   "cell_type": "markdown",
   "metadata": {},
   "source": [
    "# Eigenvalues and Eigenvectors"
   ]
  },
  {
   "cell_type": "markdown",
   "metadata": {},
   "source": [
    "Eigen vector of a square matrix A is a vector represented by a matrix X such that when X is multiplied with matrix A, then the direction of the resultant matrix remains same as vector X.\n",
    "\n",
    "The corresponding eigenvalue, denoted by λ, is the factor by which the eigenvector is scaled.\n",
    "\n",
    "**AX = λX**,\n",
    "\n",
    "where A is any arbitrary matrix, λ are eigen values and X is an eigen vector corresponding to each eigen value.\n",
    "\n",
    "**Syntax**: w,v = np.linalg.eig()\n",
    "\n",
    "**Return**: w : eigen values v : eigen vectors\n",
    "\n",
    "Application Whenever there is a complex system having large number of dimensions with a large number of data, eigenvectors and eigenvalues concepts help in transforming the data in a set of most important dimensions (principal components). This will result in processing the data in a faster manner."
   ]
  },
  {
   "cell_type": "code",
   "execution_count": 1,
   "metadata": {},
   "outputs": [
    {
     "name": "stdout",
     "output_type": "stream",
     "text": [
      "Printing the Eigen values of the given square array:\n",
      " [69.10887538 13.89112462]\n",
      "Printing the Eigenvectors of the given square array:\n",
      " [[ 0.84343263 -0.6390431 ]\n",
      " [ 0.53723496  0.76917093]]\n"
     ]
    }
   ],
   "source": [
    "import numpy as np \n",
    "a = np.array([[50, 30], [23, 33]])\n",
    "eig_Va, eig_Ve = np.linalg.eig(a) \n",
    "\n",
    "print(\"Printing the Eigen values of the given square array:\\n\", eig_Va)\n",
    "print(\"Printing the Eigenvectors of the given square array:\\n\", eig_Ve)"
   ]
  },
  {
   "cell_type": "markdown",
   "metadata": {},
   "source": [
    "# digitize()"
   ]
  },
  {
   "cell_type": "markdown",
   "metadata": {},
   "source": [
    "With the help of np.digitize() method, we can get the indices of the bins to which the each value is belongs to an array by using np.digitize() method.\n",
    "\n",
    "**Syntax**: np.digitize(Array, Bin, Right)\n",
    "\n",
    "**Return**: Return an array of indices of the bins."
   ]
  },
  {
   "cell_type": "code",
   "execution_count": 2,
   "metadata": {},
   "outputs": [
    {
     "name": "stdout",
     "output_type": "stream",
     "text": [
      "[1 2 3 4]\n"
     ]
    }
   ],
   "source": [
    "import numpy as np \n",
    "a = np.array([1.23, 2.4, 3.6, 4.8]) \n",
    "bins = np.array([1.0, 1.3, 2.5, 4.0, 10.0]) \n",
    "b = np.digitize(a, bins) \n",
    "\n",
    "print(b)"
   ]
  },
  {
   "cell_type": "markdown",
   "metadata": {},
   "source": [
    "# <u>repeat()</u>"
   ]
  },
  {
   "cell_type": "markdown",
   "metadata": {},
   "source": [
    "numpy.repeat(a, repeats, axis=None)<br>\n",
    "Repeat elements of an array.\n",
    "\n",
    "Parameters<br>\n",
    "a : array_like **Input array**.\n",
    "\n",
    "**repeats**: int or array of ints<br>\n",
    "The number of repetitions for each element. repeats is broadcasted to fit the shape of the given axis.\n",
    "\n",
    "**axis**: int, optional<br> \n",
    "The axis along which to repeat values. By default, use the flattened input array,\n",
    "and return a flat output array.\n",
    "\n",
    "**Returns**:\n",
    "repeated_array: ndarray<br> \n",
    "Output array which has the same shape as a, except along the given axis."
   ]
  },
  {
   "cell_type": "code",
   "execution_count": 4,
   "metadata": {},
   "outputs": [
    {
     "name": "stdout",
     "output_type": "stream",
     "text": [
      "[[2 3 4]\n",
      " [2 3 4]\n",
      " [2 3 4]\n",
      " [2 3 4]]\n"
     ]
    }
   ],
   "source": [
    "import numpy as np\n",
    "a = np.repeat([[2,3,4],[2,3,4]],2, axis=0)\n",
    "print(a)"
   ]
  },
  {
   "cell_type": "markdown",
   "metadata": {},
   "source": [
    "# <u>squeeze()</u>\n",
    "\n",
    "numpy.squeeze(a, axis=None)<br>\n",
    "Remove single-dimensional entries from the shape of an array.\n",
    "\n",
    "**Parameters**:<br>\n",
    "a : array_like\n",
    "\n",
    "**Input data**:<br>\n",
    "**axis**: None or int or tuple of ints, optional<br>\n",
    "Selects a subset of the single-dimensional entries in the shape. If an axis is selected with shape entry greater than one, an error is raised.\n",
    "\n",
    "**Returns**:\n",
    "**squeezed**: ndarray<br>\n",
    "The input array, but with all or a subset of the dimensions of length 1 removed.<br>\n",
    "This is always a itself or a view into a.<br>\n",
    "Note that if all axes are squeezed, the result is a 0d array and not a scalar.\n",
    "\n",
    "**Raises**: ValueError<br>\n",
    "If axis is not None, and an axis being squeezed is not of length 1"
   ]
  },
  {
   "cell_type": "code",
   "execution_count": 6,
   "metadata": {},
   "outputs": [
    {
     "name": "stdout",
     "output_type": "stream",
     "text": [
      "Input array :  [[[2 2 2]\n",
      "  [2 2 2]]]\n",
      "Shape of input array :  (1, 2, 3)\n",
      "output squeezed array :  [[2 2 2]\n",
      " [2 2 2]]\n",
      "Shape of output array :  (2, 3)\n"
     ]
    }
   ],
   "source": [
    "import numpy as np \n",
    "\n",
    "in_arr = np.array([[[2, 2, 2], [2, 2, 2]]]) \n",
    "\n",
    "print (\"Input array : \", in_arr)  \n",
    "print(\"Shape of input array : \", in_arr.shape)   \n",
    "  \n",
    "out_arr = np.squeeze(in_arr)  \n",
    "  \n",
    "print (\"output squeezed array : \", out_arr) \n",
    "print(\"Shape of output array : \", out_arr.shape)"
   ]
  },
  {
   "cell_type": "markdown",
   "metadata": {},
   "source": [
    "# <u>linspace()<u/>\n",
    "    \n",
    "**syntax()**:<br>\n",
    "numpy.linspace(start,stop,num = 50,endpoint = True,retstep = False,dtype = None)\n",
    "\n",
    "* start : [optional] start of interval range. By default start = 0<br>\n",
    "* stop : end of interval range<br>\n",
    "* restep : If True, return (samples, step). By deflut restep = False<br>\n",
    "* num : [int, optional] No. of samples to generate<br>\n",
    "* dtype : type of output array<br>\n",
    "\n",
    "**Return**:\n",
    "* ndarray<br>\n",
    "* step: [float, optional], if restep = True"
   ]
  },
  {
   "cell_type": "code",
   "execution_count": 9,
   "metadata": {},
   "outputs": [
    {
     "data": {
      "text/plain": [
       "(-0.2, 1.9)"
      ]
     },
     "execution_count": 9,
     "metadata": {},
     "output_type": "execute_result"
    },
    {
     "data": {
      "image/png": "[encoded data removed]",
      "text/plain": [
       "<Figure size 432x288 with 1 Axes>"
      ]
     },
     "metadata": {
      "needs_background": "light"
     },
     "output_type": "display_data"
    }
   ],
   "source": [
    "import numpy as np \n",
    "import pylab as p\n",
    "x1 = np.linspace(0, 2, 10, endpoint = False) \n",
    "y1 = np.ones(10) \n",
    "  \n",
    "p.plot(x1, y1, '*') \n",
    "p.xlim(-0.2, 1.9)"
   ]
  },
  {
   "cell_type": "markdown",
   "metadata": {},
   "source": [
    "# <u>clip()<u/>\n",
    "    \n",
    "**Syntax**: numpy.clip(a, a_min, a_max, out=None)\n",
    "\n",
    "**Parameters**:<br>\n",
    "a: Array containing elements to clip.\n",
    "\n",
    "a_min : Minimum value.<br>\n",
    "* If None, clipping is not performed on lower interval edge. Not more than one of a_min and a_max may be None.\n",
    "\n",
    "a_max : Maximum value.<br>\n",
    "* If None, clipping is not performed on upper interval edge. Not more than one of a_min and a_max may be None.<br>\n",
    "* If a_min or a_max are array_like, then the three arrays will be broadcasted to match their shapes.<br>\n",
    "out : Results will be placed in this array. It may be the input array for in-place clipping. out must be of the right shape to hold the output. Its type is preserved.<br>\n",
    "Return : clipped_array"
   ]
  },
  {
   "cell_type": "code",
   "execution_count": 10,
   "metadata": {},
   "outputs": [
    {
     "name": "stdout",
     "output_type": "stream",
     "text": [
      "Input array :  [1, 2, 3, 4, 5, 6, 7, 8]\n",
      "Output array :  [1 2 3 4 5 6 6 6]\n"
     ]
    }
   ],
   "source": [
    "import numpy as np \n",
    "  \n",
    "in_array = [1, 2, 3, 4, 5, 6, 7, 8 ] \n",
    "print (\"Input array : \", in_array) \n",
    "  \n",
    "out_array = np.clip(in_array, a_min = 1, a_max = 6) \n",
    "print (\"Output array : \", out_array)"
   ]
  },
  {
   "cell_type": "markdown",
   "metadata": {},
   "source": [
    "# <u>extract()<u/>\n",
    "**Syntax**: numpy.extract(condition, array)\n",
    "\n",
    "**Parameters**:<br>\n",
    "**array**: Input array. User apply conditions on input_array elements<br>\n",
    "**condition**: [array_like]Condition on the basis of which user extract elements. Applying condition on input_array, if we print condition, it will return an array filled with either True or False. Array elements are extracted from the Indices having True value.<br>\n",
    "**Returns**:\n",
    "Array elements that satisfy the condition."
   ]
  },
  {
   "cell_type": "code",
   "execution_count": 11,
   "metadata": {},
   "outputs": [
    {
     "name": "stdout",
     "output_type": "stream",
     "text": [
      "Original array : \n",
      " [[0 1]\n",
      " [2 3]\n",
      " [4 5]\n",
      " [6 7]\n",
      " [8 9]]\n",
      "\n",
      "Array Condition : \n",
      " [[ True False]\n",
      " [False False]\n",
      " [ True False]\n",
      " [False False]\n",
      " [ True False]]\n",
      "\n",
      "Elements that satisfies the condition: \n",
      " [0 4 8]\n"
     ]
    }
   ],
   "source": [
    "import numpy as np\n",
    "\n",
    "array = np.arange(10).reshape(5, 2)\n",
    "print(\"Original array : \\n\", array)\n",
    "\n",
    "condition = np.mod(array, 4) == 0\n",
    "\n",
    "# This will show element status of satisfying condition\n",
    "print(\"\\nArray Condition : \\n\", condition)\n",
    "\n",
    "# This will return elements that satisy condition \"a\" condition\n",
    "print(\"\\nElements that satisfies the condition: \\n\",\n",
    "      np.extract(condition, array))"
   ]
  },
  {
   "cell_type": "markdown",
   "metadata": {},
   "source": [
    "# <u>argpartition()<u/>\n",
    "\n",
    "argpartition() function is used to create a indirect partitioned copy of input array with its elements rearranged in such a way that the value of the element in k-th position is in the position it would be in a sorted array. All elements smaller than the k-th element are moved before this element and all equal or greater are moved behind it. The ordering of the elements in the two partitions is undefined.It returns an array of indices of the same shape as arr, i.e arr[index_array] yields a partition of arr.<br>\n",
    "    \n",
    "**Syntax**: numpy.argpartition(arr, kth, axis=-1, kind=’introselect’, order=None)<br>\n",
    "\n",
    "**Parameters**:<br>\n",
    "**arr**: [array_like] Input array.<br>\n",
    "**kth**: [int or sequence of ints ] Element index to partition by.<br>\n",
    "**axis**: [int or None] Axis along which to sort. If None, the array is flattened before sorting. The default is -1, which sorts along the last axis.<br>\n",
    "**kind**: Selection algorithm. Default is ‘introselect’.<br>\n",
    "**order**: [str or list of str] When arr is an array with fields defined, this argument specifies which fields to compare first, second, etc.<br>\n",
    "\n",
    "**Return**: [index_array, ndarray] Array of indices that partition arr along the specified axis."
   ]
  },
  {
   "cell_type": "code",
   "execution_count": 12,
   "metadata": {},
   "outputs": [
    {
     "name": "stdout",
     "output_type": "stream",
     "text": [
      "Input array :  [2 0 1 5 4 3]\n",
      "Output partitioned array indices:  [1 2 0 3 4 5]\n"
     ]
    }
   ],
   "source": [
    "import numpy as np \n",
    "  \n",
    "# input array \n",
    "in_arr = np.array([ 2, 0,  1, 5, 4, 3]) \n",
    "print (\"Input array : \", in_arr)  \n",
    "  \n",
    "out_arr = np.argpartition(in_arr, (0, 2)) \n",
    "print (\"Output partitioned array indices: \", out_arr)"
   ]
  },
  {
   "cell_type": "markdown",
   "metadata": {},
   "source": [
    "# <u>setdiff1d()<u/>\n",
    "    \n",
    "**Syntax**: numpy.setdiff1d(arr1, arr2, assume_unique = False)\n",
    "\n",
    "**Parameters**:<br>\n",
    "**arr1**: [array_like] Input array.<br>\n",
    "**arr2**: [array_like] Input comparison array.<br>\n",
    "**assume_unique**: [bool] If True, the input arrays are both assumed to be unique, which can speed up the calculation.\n",
    "Default is False.<br>\n",
    "\n",
    "**Return**: [ndarray] 1D array of values in arr1 that are not in arr2. The result is sorted when assume_unique = False, but otherwise only sorted if the input is sorted."
   ]
  },
  {
   "cell_type": "code",
   "execution_count": 13,
   "metadata": {},
   "outputs": [
    {
     "name": "stdout",
     "output_type": "stream",
     "text": [
      "[2 5 6 7 8]\n"
     ]
    }
   ],
   "source": [
    "import numpy as np  \n",
    "   \n",
    "arr1 = [5, 6, 2, 3, 4, 6, 7, 8] \n",
    "arr2 = [4, 1, 3] \n",
    "   \n",
    "a = np.setdiff1d(arr1, arr2) \n",
    "   \n",
    "print (a)"
   ]
  },
  {
   "cell_type": "markdown",
   "metadata": {},
   "source": [
    "# <u>itemsize()<u/>\n",
    "\n",
    "**Syntax**: numpy.ndarray.itemsize(arr)\n",
    "    \n",
    "**Parameters**:<br>\n",
    "**arr**: [array_like] Input array.\n",
    "\n",
    "**Return**: [int] The length of one array element in bytes"
   ]
  },
  {
   "cell_type": "code",
   "execution_count": 15,
   "metadata": {},
   "outputs": [
    {
     "name": "stdout",
     "output_type": "stream",
     "text": [
      "8\n"
     ]
    }
   ],
   "source": [
    "import numpy as np \n",
    "arr = np.array([1, 2, 3, 4], dtype = np.float64) \n",
    "a = arr.itemsize \n",
    "print (a)"
   ]
  },
  {
   "cell_type": "markdown",
   "metadata": {},
   "source": [
    "# <u>hstack()<u/>\n",
    "\n",
    "**Syntax**: numpy.hstack(tup)<br>\n",
    "\n",
    "**Parameters**:<br>\n",
    "**tup**: [sequence of ndarrays] Tuple containing arrays to be stacked. The arrays must have the same shape along all but the second axis.\n",
    "\n",
    "**Return**: [stacked ndarray] The stacked array of the input arrays."
   ]
  },
  {
   "cell_type": "code",
   "execution_count": 16,
   "metadata": {},
   "outputs": [
    {
     "name": "stdout",
     "output_type": "stream",
     "text": [
      "1st Input array : \n",
      " [1 2 3]\n",
      "2nd Input array : \n",
      " [4 5 6]\n",
      "Output horizontally stacked array:\n",
      "  [1 2 3 4 5 6]\n"
     ]
    }
   ],
   "source": [
    "import numpy as np\n",
    "in_arr1 = np.array([ 1, 2, 3] ) \n",
    "print (\"1st Input array : \\n\", in_arr1)  \n",
    "  \n",
    "in_arr2 = np.array([ 4, 5, 6] ) \n",
    "print (\"2nd Input array : \\n\", in_arr2)  \n",
    "\n",
    "out_arr = np.hstack((in_arr1, in_arr2)) \n",
    "print (\"Output horizontally stacked array:\\n \", out_arr)"
   ]
  },
  {
   "cell_type": "markdown",
   "metadata": {},
   "source": [
    "# <u>vstack()<u/>\n",
    "**Syntax**: numpy.vstack(tup)\n",
    "\n",
    "**Parameters**:<br>\n",
    "**tup**: [sequence of ndarrays] Tuple containing arrays to be stacked. The arrays must have the same shape along all but the first axis.\n",
    "\n",
    "**Return**: [stacked ndarray] The stacked array of the input arrays."
   ]
  },
  {
   "cell_type": "code",
   "execution_count": 17,
   "metadata": {},
   "outputs": [
    {
     "name": "stdout",
     "output_type": "stream",
     "text": [
      "1st Input array : \n",
      " [3 4 3]\n",
      "2nd Input array : \n",
      " [80 90 60]\n",
      "Output vertically stacked array:\n",
      "  [[ 3  4  3]\n",
      " [80 90 60]]\n"
     ]
    }
   ],
   "source": [
    "in_arr1 = np.array([ 3, 4, 3] ) \n",
    "print (\"1st Input array : \\n\", in_arr1)  \n",
    "  \n",
    "in_arr2 = np.array([ 80, 90, 60] ) \n",
    "print (\"2nd Input array : \\n\", in_arr2)  \n",
    "  \n",
    "# Stacking the two arrays vertically \n",
    "out_arr = np.vstack((in_arr1, in_arr2)) \n",
    "print (\"Output vertically stacked array:\\n \", out_arr)"
   ]
  },
  {
   "cell_type": "markdown",
   "metadata": {},
   "source": [
    "# <u>hsplit()<u/>\n",
    "    \n",
    "**Syntax**: numpy.hsplit(arr, indices_or_sections)\n",
    "    \n",
    "**Parameters**:<br>\n",
    "**arr**: [ndarray] Array to be divided into sub-arrays.<br>\n",
    "**indices_or_sections**: [int or 1-D array] If indices_or_sections is an integer, N, the array will be divided into N equal arrays along axis.<br>\n",
    "If indices_or_sections is a 1-D array of sorted integers, the entries indicate where along axis the array is split Return : [ndarray] A list of sub-arrays."
   ]
  },
  {
   "cell_type": "code",
   "execution_count": 18,
   "metadata": {},
   "outputs": [
    {
     "name": "stdout",
     "output_type": "stream",
     "text": [
      "[array([[ 0.,  1.],\n",
      "       [ 4.,  5.],\n",
      "       [ 8.,  9.],\n",
      "       [12., 13.]]), array([[ 2.,  3.],\n",
      "       [ 6.,  7.],\n",
      "       [10., 11.],\n",
      "       [14., 15.]])]\n"
     ]
    }
   ],
   "source": [
    "import numpy as np \n",
    "arr = np.arange(16.0).reshape(4, 4) \n",
    "a = np.hsplit(arr, 2) \n",
    "\n",
    "print (a)"
   ]
  },
  {
   "cell_type": "markdown",
   "metadata": {},
   "source": [
    "# <u>vsplit()<u/>\n",
    "    \n",
    "**Syntax**: numpy.vsplit(arr, indices_or_sections)\n",
    "    \n",
    "**Parameters**:<br>\n",
    "**arr**: [ndarray] Array to be divided into sub-arrays.\n",
    "\n",
    "**indices_or_sections**: [int or 1-D array] If indices_or_sections is an integer, N, the array will be divided into N equal arrays along axis.<br>\n",
    "If indices_or_sections is a 1-D array of sorted integers, the entries indicate where along axis the array is split Return : [ndarray] A list of sub-arrays."
   ]
  },
  {
   "cell_type": "code",
   "execution_count": 19,
   "metadata": {},
   "outputs": [
    {
     "name": "stdout",
     "output_type": "stream",
     "text": [
      "[array([[0., 1., 2.],\n",
      "       [3., 4., 5.],\n",
      "       [6., 7., 8.]])]\n"
     ]
    }
   ],
   "source": [
    "import numpy as np \n",
    "arr = np.arange(9.0).reshape(3, 3) \n",
    "a = np.vsplit(arr, 1) \n",
    "print (a)"
   ]
  },
  {
   "cell_type": "markdown",
   "metadata": {},
   "source": [
    "# <u>View vs Shallow Copy<u/>\n",
    "    \n",
    "A view of a NumPy array is a shallow copy , i.e. it references the same data buffer as the original, so changes to the original data affect the view data and vice versa.\n",
    "\n",
    "A shallow copy constructs a new compound object and then (to the extent possible) inserts references into it to the objects found in the original.\n",
    "\n",
    "A shallow copy means constructing a new collection object and then populating it with references to the child objects found in the original. The copying process does not recurse and therefore won’t create copies of the child objects themselves. In case of shallow copy, a reference of object is copied in other object. It means that any changes made to a copy of object **do reflect** in the original object."
   ]
  },
  {
   "cell_type": "markdown",
   "metadata": {},
   "source": [
    "# <u>Deep Copy<u/>\n",
    "Deep copy is a process in which the copying process occurs recursively. It means first constructing a new collection object and then recursively populating it with copies of the child objects found in the original. In case of deep copy, a copy of object is copied in other object. It means that any changes made to a copy of object do not reflect in the original object."
   ]
  },
  {
   "cell_type": "markdown",
   "metadata": {},
   "source": [
    "# <u>copy()<u/>\n",
    "    \n",
    "**Syntax**: numpy.ndarray.copy(order='C')\n",
    "\n",
    "**Parameters**:<br>\n",
    "**order**: Controls the memory layout of the copy.<br>\n",
    "‘C’ means C-order,<br>\n",
    "‘F’ means F-order,<br>\n",
    "‘A’ means ‘F’ if a is Fortran contiguous, ‘C’ otherwise.<br>\n",
    "‘K’ means match the layout of a as closely as possible."
   ]
  },
  {
   "cell_type": "code",
   "execution_count": 20,
   "metadata": {},
   "outputs": [
    {
     "name": "stdout",
     "output_type": "stream",
     "text": [
      "y is :\n",
      " [[0 1 2 3]\n",
      " [4 5 6 7]]\n",
      "\n",
      "x is equal to y :\n",
      " [[ True  True  True  True]\n",
      " [ True  True  True  True]]\n"
     ]
    }
   ],
   "source": [
    "import numpy as np   \n",
    "x = np.array([[0, 1, 2, 3], [4, 5, 6, 7]], \n",
    "                                 order ='F')\n",
    "  \n",
    "y = x.copy() \n",
    "print(\"y is :\\n\", y)\n",
    "print(\"\\nx is equal to y :\\n\",x==y)"
   ]
  },
  {
   "cell_type": "markdown",
   "metadata": {},
   "source": [
    "# <u>meshgrid<u/>\n",
    "    \n",
    "The numpy.meshgrid function is used to create a rectangular grid out of two given one-dimensional arrays representing the Cartesian indexing or Matrix indexing."
   ]
  },
  {
   "cell_type": "code",
   "execution_count": 21,
   "metadata": {},
   "outputs": [
    {
     "name": "stdout",
     "output_type": "stream",
     "text": [
      "x_1 = \n",
      "[[-4. -3. -2. -1.  0.  1.  2.  3.  4.]\n",
      " [-4. -3. -2. -1.  0.  1.  2.  3.  4.]\n",
      " [-4. -3. -2. -1.  0.  1.  2.  3.  4.]\n",
      " [-4. -3. -2. -1.  0.  1.  2.  3.  4.]\n",
      " [-4. -3. -2. -1.  0.  1.  2.  3.  4.]\n",
      " [-4. -3. -2. -1.  0.  1.  2.  3.  4.]\n",
      " [-4. -3. -2. -1.  0.  1.  2.  3.  4.]\n",
      " [-4. -3. -2. -1.  0.  1.  2.  3.  4.]\n",
      " [-4. -3. -2. -1.  0.  1.  2.  3.  4.]\n",
      " [-4. -3. -2. -1.  0.  1.  2.  3.  4.]\n",
      " [-4. -3. -2. -1.  0.  1.  2.  3.  4.]]\n",
      "y_1 = \n",
      "[[-5. -5. -5. -5. -5. -5. -5. -5. -5.]\n",
      " [-4. -4. -4. -4. -4. -4. -4. -4. -4.]\n",
      " [-3. -3. -3. -3. -3. -3. -3. -3. -3.]\n",
      " [-2. -2. -2. -2. -2. -2. -2. -2. -2.]\n",
      " [-1. -1. -1. -1. -1. -1. -1. -1. -1.]\n",
      " [ 0.  0.  0.  0.  0.  0.  0.  0.  0.]\n",
      " [ 1.  1.  1.  1.  1.  1.  1.  1.  1.]\n",
      " [ 2.  2.  2.  2.  2.  2.  2.  2.  2.]\n",
      " [ 3.  3.  3.  3.  3.  3.  3.  3.  3.]\n",
      " [ 4.  4.  4.  4.  4.  4.  4.  4.  4.]\n",
      " [ 5.  5.  5.  5.  5.  5.  5.  5.  5.]]\n"
     ]
    }
   ],
   "source": [
    "import numpy as np\n",
    "\n",
    "x = np.linspace(-4, 4, 9) \n",
    "y = np.linspace(-5, 5, 11)\n",
    "x_1, y_1 = np.meshgrid(x, y) \n",
    "  \n",
    "print(\"x_1 = \") \n",
    "print(x_1) \n",
    "print(\"y_1 = \") \n",
    "print(y_1)"
   ]
  },
  {
   "cell_type": "markdown",
   "metadata": {},
   "source": [
    "# <u>swapaxes()<u/>\n",
    "    \n",
    "With the help of matrix.swapaxes() method, we are able to swap the axes a matrix by using the same method.\n",
    "\n",
    "**Syntax**: matrix.swapaxes()<br>\n",
    "**Return**: Return matrix having interchanged axes"
   ]
  },
  {
   "cell_type": "code",
   "execution_count": 22,
   "metadata": {},
   "outputs": [
    {
     "name": "stdout",
     "output_type": "stream",
     "text": [
      "[[ 4  1]\n",
      " [12  3]]\n"
     ]
    }
   ],
   "source": [
    "import numpy as np       \n",
    "\n",
    "a = np.matrix('[4, 1; 12, 3]') \n",
    "\n",
    "b = a.swapaxes(1,1) \n",
    "   \n",
    "print(b)"
   ]
  },
  {
   "cell_type": "markdown",
   "metadata": {},
   "source": [
    "# <u>column_stack()<u/>\n",
    "    \n",
    "**Syntax**: numpy.column_stack(tup)\n",
    "\n",
    "**Parameters**:<br>\n",
    "**tup**: [sequence of ndarrays] Tuple containing arrays to be stacked. The arrays must have the same first dimension.<br>\n",
    "**Return**: [stacked 2-D array] The stacked 2-D array of the input arrays."
   ]
  },
  {
   "cell_type": "code",
   "execution_count": 23,
   "metadata": {},
   "outputs": [
    {
     "name": "stdout",
     "output_type": "stream",
     "text": [
      "1st Input array : \n",
      " [1 2 3]\n",
      "2nd Input array : \n",
      " [4 5 6]\n",
      "Output stacked array:\n",
      "  [[1 4]\n",
      " [2 5]\n",
      " [3 6]]\n"
     ]
    }
   ],
   "source": [
    "import numpy as np \n",
    " \n",
    "in_arr1 = np.array(( 1, 2, 3 )) \n",
    "print (\"1st Input array : \\n\", in_arr1)  \n",
    "  \n",
    "in_arr2 = np.array(( 4, 5, 6 )) \n",
    "print (\"2nd Input array : \\n\", in_arr2)  \n",
    "\n",
    "out_arr = np.column_stack((in_arr1, in_arr2)) \n",
    "print (\"Output stacked array:\\n \", out_arr)"
   ]
  }
 ],
 "metadata": {
  "kernelspec": {
   "display_name": "Python 3",
   "language": "python",
   "name": "python3"
  },
  "language_info": {
   "codemirror_mode": {
    "name": "ipython",
    "version": 3
   },
   "file_extension": ".py",
   "mimetype": "text/x-python",
   "name": "python",
   "nbconvert_exporter": "python",
   "pygments_lexer": "ipython3",
   "version": "3.8.5"
  }
 },
 "nbformat": 4,
 "nbformat_minor": 4
}
